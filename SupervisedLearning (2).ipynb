{
    "metadata": {
        "kernelspec": {
            "name": "python3",
            "display_name": "Python 3 (ipykernel)",
            "language": "python"
        }
    },
    "nbformat": 4,
    "nbformat_minor": 2,
    "cells": [
        {
            "attachments": {},
            "cell_type": "markdown",
            "metadata": {},
            "source": [
                "# **Training a maximum entropy classifier**"
            ]
        },
        {
            "attachments": {},
            "cell_type": "markdown",
            "metadata": {},
            "source": [
                "This code bit predicts music preference based on age and gender and returns dataset entropy and average prediction accuracy over 30 runs.\u003cbr\u003e\n",
                "Run the code by clicking \u003cb\u003eRun All\u003c/b\u003e."
            ]
        },
        {
            "cell_type": "code",
            "execution_count": 22,
            "metadata": {},
            "outputs": [],
            "source": [
                "#import pandas, scipy and sklearn packages\n",
                "\n",
                "import pandas as pd\n",
                "import scipy.stats\n",
                "from sklearn.tree import DecisionTreeClassifier\n",
                "from sklearn.model_selection import train_test_split\n",
                "from sklearn.metrics import accuracy_score\n",
                "from sklearn import tree\n",
                "from itertools import repeat\n",
                "import numpy as np"
            ]
        },
        {
            "attachments": {},
            "cell_type": "markdown",
            "metadata": {},
            "source": [
                "**1. Read in the dataset**"
            ]
        },
        {
            "cell_type": "code",
            "execution_count": 23,
            "metadata": {},
            "outputs": [
                {
                    "data": {
                        "text/html": "\u003cdiv\u003e\n\u003cstyle scoped\u003e\n    .dataframe tbody tr th:only-of-type {\n        vertical-align: middle;\n    }\n\n    .dataframe tbody tr th {\n        vertical-align: top;\n    }\n\n    .dataframe thead th {\n        text-align: right;\n    }\n\u003c/style\u003e\n\u003ctable border=\"1\" class=\"dataframe\"\u003e\n  \u003cthead\u003e\n    \u003ctr style=\"text-align: right;\"\u003e\n      \u003cth\u003e\u003c/th\u003e\n      \u003cth\u003eid\u003c/th\u003e\n      \u003cth\u003ename\u003c/th\u003e\n      \u003cth\u003ehost_id\u003c/th\u003e\n      \u003cth\u003ehost_name\u003c/th\u003e\n      \u003cth\u003eneighbourhood_group\u003c/th\u003e\n      \u003cth\u003eneighbourhood\u003c/th\u003e\n      \u003cth\u003elatitude\u003c/th\u003e\n      \u003cth\u003elongitude\u003c/th\u003e\n      \u003cth\u003eroom_type\u003c/th\u003e\n      \u003cth\u003eprice\u003c/th\u003e\n      \u003cth\u003eminimum_nights\u003c/th\u003e\n      \u003cth\u003enumber_of_reviews\u003c/th\u003e\n      \u003cth\u003elast_review\u003c/th\u003e\n      \u003cth\u003ereviews_per_month\u003c/th\u003e\n      \u003cth\u003ecalculated_host_listings_count\u003c/th\u003e\n      \u003cth\u003eavailability_365\u003c/th\u003e\n    \u003c/tr\u003e\n  \u003c/thead\u003e\n  \u003ctbody\u003e\n    \u003ctr\u003e\n      \u003cth\u003e0\u003c/th\u003e\n      \u003ctd\u003e2539\u003c/td\u003e\n      \u003ctd\u003eClean \u0026amp; quiet apt home by the park\u003c/td\u003e\n      \u003ctd\u003e2787\u003c/td\u003e\n      \u003ctd\u003eJohn\u003c/td\u003e\n      \u003ctd\u003eBrooklyn\u003c/td\u003e\n      \u003ctd\u003eKensington\u003c/td\u003e\n      \u003ctd\u003e40.64749\u003c/td\u003e\n      \u003ctd\u003e-73.97237\u003c/td\u003e\n      \u003ctd\u003ePrivate room\u003c/td\u003e\n      \u003ctd\u003e149\u003c/td\u003e\n      \u003ctd\u003e1\u003c/td\u003e\n      \u003ctd\u003e9\u003c/td\u003e\n      \u003ctd\u003e10/19/2018\u003c/td\u003e\n      \u003ctd\u003e0.21\u003c/td\u003e\n      \u003ctd\u003e6\u003c/td\u003e\n      \u003ctd\u003e365\u003c/td\u003e\n    \u003c/tr\u003e\n    \u003ctr\u003e\n      \u003cth\u003e1\u003c/th\u003e\n      \u003ctd\u003e2595\u003c/td\u003e\n      \u003ctd\u003eSkylit Midtown Castle\u003c/td\u003e\n      \u003ctd\u003e2845\u003c/td\u003e\n      \u003ctd\u003eJennifer\u003c/td\u003e\n      \u003ctd\u003eManhattan\u003c/td\u003e\n      \u003ctd\u003eMidtown\u003c/td\u003e\n      \u003ctd\u003e40.75362\u003c/td\u003e\n      \u003ctd\u003e-73.98377\u003c/td\u003e\n      \u003ctd\u003eEntire home/apt\u003c/td\u003e\n      \u003ctd\u003e225\u003c/td\u003e\n      \u003ctd\u003e1\u003c/td\u003e\n      \u003ctd\u003e45\u003c/td\u003e\n      \u003ctd\u003e5/21/2019\u003c/td\u003e\n      \u003ctd\u003e0.38\u003c/td\u003e\n      \u003ctd\u003e2\u003c/td\u003e\n      \u003ctd\u003e355\u003c/td\u003e\n    \u003c/tr\u003e\n    \u003ctr\u003e\n      \u003cth\u003e2\u003c/th\u003e\n      \u003ctd\u003e3647\u003c/td\u003e\n      \u003ctd\u003eTHE VILLAGE OF HARLEM....NEW YORK !\u003c/td\u003e\n      \u003ctd\u003e4632\u003c/td\u003e\n      \u003ctd\u003eElisabeth\u003c/td\u003e\n      \u003ctd\u003eManhattan\u003c/td\u003e\n      \u003ctd\u003eHarlem\u003c/td\u003e\n      \u003ctd\u003e40.80902\u003c/td\u003e\n      \u003ctd\u003e-73.94190\u003c/td\u003e\n      \u003ctd\u003ePrivate room\u003c/td\u003e\n      \u003ctd\u003e150\u003c/td\u003e\n      \u003ctd\u003e3\u003c/td\u003e\n      \u003ctd\u003e0\u003c/td\u003e\n      \u003ctd\u003e5/22/2019\u003c/td\u003e\n      \u003ctd\u003e0.00\u003c/td\u003e\n      \u003ctd\u003e1\u003c/td\u003e\n      \u003ctd\u003e365\u003c/td\u003e\n    \u003c/tr\u003e\n    \u003ctr\u003e\n      \u003cth\u003e3\u003c/th\u003e\n      \u003ctd\u003e3831\u003c/td\u003e\n      \u003ctd\u003eCozy Entire Floor of Brownstone\u003c/td\u003e\n      \u003ctd\u003e4869\u003c/td\u003e\n      \u003ctd\u003eLisaRoxanne\u003c/td\u003e\n      \u003ctd\u003eBrooklyn\u003c/td\u003e\n      \u003ctd\u003eClinton Hill\u003c/td\u003e\n      \u003ctd\u003e40.68514\u003c/td\u003e\n      \u003ctd\u003e-73.95976\u003c/td\u003e\n      \u003ctd\u003eEntire home/apt\u003c/td\u003e\n      \u003ctd\u003e89\u003c/td\u003e\n      \u003ctd\u003e1\u003c/td\u003e\n      \u003ctd\u003e270\u003c/td\u003e\n      \u003ctd\u003e7/5/2019\u003c/td\u003e\n      \u003ctd\u003e4.64\u003c/td\u003e\n      \u003ctd\u003e1\u003c/td\u003e\n      \u003ctd\u003e194\u003c/td\u003e\n    \u003c/tr\u003e\n    \u003ctr\u003e\n      \u003cth\u003e4\u003c/th\u003e\n      \u003ctd\u003e5022\u003c/td\u003e\n      \u003ctd\u003eEntire Apt: Spacious Studio/Loft by central park\u003c/td\u003e\n      \u003ctd\u003e7192\u003c/td\u003e\n      \u003ctd\u003eLaura\u003c/td\u003e\n      \u003ctd\u003eManhattan\u003c/td\u003e\n      \u003ctd\u003eEast Harlem\u003c/td\u003e\n      \u003ctd\u003e40.79851\u003c/td\u003e\n      \u003ctd\u003e-73.94399\u003c/td\u003e\n      \u003ctd\u003eEntire home/apt\u003c/td\u003e\n      \u003ctd\u003e80\u003c/td\u003e\n      \u003ctd\u003e10\u003c/td\u003e\n      \u003ctd\u003e9\u003c/td\u003e\n      \u003ctd\u003e11/19/2018\u003c/td\u003e\n      \u003ctd\u003e0.10\u003c/td\u003e\n      \u003ctd\u003e1\u003c/td\u003e\n      \u003ctd\u003e0\u003c/td\u003e\n    \u003c/tr\u003e\n  \u003c/tbody\u003e\n\u003c/table\u003e\n\u003c/div\u003e",
                        "text/plain": "     id                                              name  host_id  \\\n0  2539                Clean \u0026 quiet apt home by the park     2787   \n1  2595                             Skylit Midtown Castle     2845   \n2  3647               THE VILLAGE OF HARLEM....NEW YORK !     4632   \n3  3831                   Cozy Entire Floor of Brownstone     4869   \n4  5022  Entire Apt: Spacious Studio/Loft by central park     7192   \n\n     host_name neighbourhood_group neighbourhood  latitude  longitude  \\\n0         John            Brooklyn    Kensington  40.64749  -73.97237   \n1     Jennifer           Manhattan       Midtown  40.75362  -73.98377   \n2    Elisabeth           Manhattan        Harlem  40.80902  -73.94190   \n3  LisaRoxanne            Brooklyn  Clinton Hill  40.68514  -73.95976   \n4        Laura           Manhattan   East Harlem  40.79851  -73.94399   \n\n         room_type  price  minimum_nights  number_of_reviews last_review  \\\n0     Private room    149               1                  9  10/19/2018   \n1  Entire home/apt    225               1                 45   5/21/2019   \n2     Private room    150               3                  0   5/22/2019   \n3  Entire home/apt     89               1                270    7/5/2019   \n4  Entire home/apt     80              10                  9  11/19/2018   \n\n   reviews_per_month  calculated_host_listings_count  availability_365  \n0               0.21                               6               365  \n1               0.38                               2               355  \n2               0.00                               1               365  \n3               4.64                               1               194  \n4               0.10                               1                 0  "
                    },
                    "execution_count": 23,
                    "metadata": {},
                    "output_type": "execute_result"
                }
            ],
            "source": [
                "df = pd.read_csv('AB_NYC_2019.csv')\n",
                "df.head()"
            ]
        },
        {
            "attachments": {},
            "cell_type": "markdown",
            "metadata": {},
            "source": [
                "**2. Split the dataset**"
            ]
        },
        {
            "cell_type": "code",
            "execution_count": 24,
            "metadata": {},
            "outputs": [
                {
                    "data": {
                        "text/html": "\u003cdiv\u003e\n\u003cstyle scoped\u003e\n    .dataframe tbody tr th:only-of-type {\n        vertical-align: middle;\n    }\n\n    .dataframe tbody tr th {\n        vertical-align: top;\n    }\n\n    .dataframe thead th {\n        text-align: right;\n    }\n\u003c/style\u003e\n\u003ctable border=\"1\" class=\"dataframe\"\u003e\n  \u003cthead\u003e\n    \u003ctr style=\"text-align: right;\"\u003e\n      \u003cth\u003e\u003c/th\u003e\n      \u003cth\u003eprice\u003c/th\u003e\n      \u003cth\u003eminimum_nights\u003c/th\u003e\n      \u003cth\u003enumber_of_reviews\u003c/th\u003e\n      \u003cth\u003ereviews_per_month\u003c/th\u003e\n      \u003cth\u003eavailability_365\u003c/th\u003e\n    \u003c/tr\u003e\n  \u003c/thead\u003e\n  \u003ctbody\u003e\n    \u003ctr\u003e\n      \u003cth\u003e0\u003c/th\u003e\n      \u003ctd\u003e149\u003c/td\u003e\n      \u003ctd\u003e1\u003c/td\u003e\n      \u003ctd\u003e9\u003c/td\u003e\n      \u003ctd\u003e0.21\u003c/td\u003e\n      \u003ctd\u003e365\u003c/td\u003e\n    \u003c/tr\u003e\n    \u003ctr\u003e\n      \u003cth\u003e1\u003c/th\u003e\n      \u003ctd\u003e225\u003c/td\u003e\n      \u003ctd\u003e1\u003c/td\u003e\n      \u003ctd\u003e45\u003c/td\u003e\n      \u003ctd\u003e0.38\u003c/td\u003e\n      \u003ctd\u003e355\u003c/td\u003e\n    \u003c/tr\u003e\n    \u003ctr\u003e\n      \u003cth\u003e2\u003c/th\u003e\n      \u003ctd\u003e150\u003c/td\u003e\n      \u003ctd\u003e3\u003c/td\u003e\n      \u003ctd\u003e0\u003c/td\u003e\n      \u003ctd\u003e0.00\u003c/td\u003e\n      \u003ctd\u003e365\u003c/td\u003e\n    \u003c/tr\u003e\n    \u003ctr\u003e\n      \u003cth\u003e3\u003c/th\u003e\n      \u003ctd\u003e89\u003c/td\u003e\n      \u003ctd\u003e1\u003c/td\u003e\n      \u003ctd\u003e270\u003c/td\u003e\n      \u003ctd\u003e4.64\u003c/td\u003e\n      \u003ctd\u003e194\u003c/td\u003e\n    \u003c/tr\u003e\n    \u003ctr\u003e\n      \u003cth\u003e4\u003c/th\u003e\n      \u003ctd\u003e80\u003c/td\u003e\n      \u003ctd\u003e10\u003c/td\u003e\n      \u003ctd\u003e9\u003c/td\u003e\n      \u003ctd\u003e0.10\u003c/td\u003e\n      \u003ctd\u003e0\u003c/td\u003e\n    \u003c/tr\u003e\n    \u003ctr\u003e\n      \u003cth\u003e...\u003c/th\u003e\n      \u003ctd\u003e...\u003c/td\u003e\n      \u003ctd\u003e...\u003c/td\u003e\n      \u003ctd\u003e...\u003c/td\u003e\n      \u003ctd\u003e...\u003c/td\u003e\n      \u003ctd\u003e...\u003c/td\u003e\n    \u003c/tr\u003e\n    \u003ctr\u003e\n      \u003cth\u003e48890\u003c/th\u003e\n      \u003ctd\u003e70\u003c/td\u003e\n      \u003ctd\u003e2\u003c/td\u003e\n      \u003ctd\u003e0\u003c/td\u003e\n      \u003ctd\u003e0.00\u003c/td\u003e\n      \u003ctd\u003e9\u003c/td\u003e\n    \u003c/tr\u003e\n    \u003ctr\u003e\n      \u003cth\u003e48891\u003c/th\u003e\n      \u003ctd\u003e40\u003c/td\u003e\n      \u003ctd\u003e4\u003c/td\u003e\n      \u003ctd\u003e0\u003c/td\u003e\n      \u003ctd\u003e0.00\u003c/td\u003e\n      \u003ctd\u003e36\u003c/td\u003e\n    \u003c/tr\u003e\n    \u003ctr\u003e\n      \u003cth\u003e48892\u003c/th\u003e\n      \u003ctd\u003e115\u003c/td\u003e\n      \u003ctd\u003e10\u003c/td\u003e\n      \u003ctd\u003e0\u003c/td\u003e\n      \u003ctd\u003e0.00\u003c/td\u003e\n      \u003ctd\u003e27\u003c/td\u003e\n    \u003c/tr\u003e\n    \u003ctr\u003e\n      \u003cth\u003e48893\u003c/th\u003e\n      \u003ctd\u003e55\u003c/td\u003e\n      \u003ctd\u003e1\u003c/td\u003e\n      \u003ctd\u003e0\u003c/td\u003e\n      \u003ctd\u003e0.00\u003c/td\u003e\n      \u003ctd\u003e2\u003c/td\u003e\n    \u003c/tr\u003e\n    \u003ctr\u003e\n      \u003cth\u003e48894\u003c/th\u003e\n      \u003ctd\u003e90\u003c/td\u003e\n      \u003ctd\u003e7\u003c/td\u003e\n      \u003ctd\u003e0\u003c/td\u003e\n      \u003ctd\u003e0.00\u003c/td\u003e\n      \u003ctd\u003e23\u003c/td\u003e\n    \u003c/tr\u003e\n  \u003c/tbody\u003e\n\u003c/table\u003e\n\u003cp\u003e48895 rows × 5 columns\u003c/p\u003e\n\u003c/div\u003e",
                        "text/plain": "       price  minimum_nights  number_of_reviews  reviews_per_month  \\\n0        149               1                  9               0.21   \n1        225               1                 45               0.38   \n2        150               3                  0               0.00   \n3         89               1                270               4.64   \n4         80              10                  9               0.10   \n...      ...             ...                ...                ...   \n48890     70               2                  0               0.00   \n48891     40               4                  0               0.00   \n48892    115              10                  0               0.00   \n48893     55               1                  0               0.00   \n48894     90               7                  0               0.00   \n\n       availability_365  \n0                   365  \n1                   355  \n2                   365  \n3                   194  \n4                     0  \n...                 ...  \n48890                 9  \n48891                36  \n48892                27  \n48893                 2  \n48894                23  \n\n[48895 rows x 5 columns]"
                    },
                    "execution_count": 24,
                    "metadata": {},
                    "output_type": "execute_result"
                }
            ],
            "source": [
                "# Run this section to inspect X\n",
                "X = df.drop(columns = ['room_type', 'calculated_host_listings_count', 'host_name', 'host_id', 'name', 'id' , 'neighbourhood', 'neighbourhood_group', 'latitude', 'longitude', 'last_review'])\n",
                "X"
            ]
        },
        {
            "cell_type": "code",
            "execution_count": 25,
            "metadata": {},
            "outputs": [
                {
                    "data": {
                        "text/plain": "0        149\n1        225\n2        150\n3         89\n4         80\n        ... \n48890     70\n48891     40\n48892    115\n48893     55\n48894     90\nName: price, Length: 48895, dtype: int64"
                    },
                    "execution_count": 25,
                    "metadata": {},
                    "output_type": "execute_result"
                }
            ],
            "source": [
                "# Uncomment this section to inpect y\n",
                "y = df['price']\n",
                "y"
            ]
        },
        {
            "attachments": {},
            "cell_type": "markdown",
            "metadata": {},
            "source": [
                "**3. Compute entropy of data set**"
            ]
        },
        {
            "cell_type": "code",
            "execution_count": 26,
            "metadata": {},
            "outputs": [
                {
                    "name": "stdout",
                    "output_type": "stream",
                    "text": "4.823542785553113\n"
                }
            ],
            "source": [
                "# Compute the maximum entropy value\n",
                "k = y.unique().size\n",
                "maxE = np.log2(k)\n",
                "p_data = y.value_counts(normalize=True)           # counts occurrence of each value\n",
                "entropy = scipy.stats.entropy(p_data)  # get entropy from counts\n",
                "\n",
                "# normalize the value to be between 0 and 1.\n",
                "normalizedE = entropy/maxE\n",
                "print(entropy)"
            ]
        },
        {
            "attachments": {},
            "cell_type": "markdown",
            "metadata": {},
            "source": [
                "**4. Testing: entropy-based decision tree classifier averaged over 30 runs**"
            ]
        },
        {
            "cell_type": "code",
            "execution_count": 27,
            "metadata": {},
            "outputs": [],
            "source": [
                "avg_score = 0.0\n",
                "ntimes = 30\n",
                "\n",
                "for i in repeat(None, ntimes):\n",
                "\n",
                "    # train model with 80% of the data\n",
                "    X_train, X_test, y_train, y_test = train_test_split(X, y, test_size=0.2)\n",
                "\n",
                "    # prediction using entropy\n",
                "    # Note: You can replace 'entropy' by 'gini' to get the classifier to use the gini index criterion.\n",
                "    model = DecisionTreeClassifier(criterion='entropy')\n",
                "    model.fit(X_train,y_train)\n",
                "    predictions = model.predict(X_test)\n",
                "\n",
                "    # compute model accuracy\n",
                "    avg_score += accuracy_score(y_test, predictions)\n",
                "\n",
                "avg_score /= ntimes"
            ]
        },
        {
            "attachments": {},
            "cell_type": "markdown",
            "metadata": {},
            "source": [
                "**5. print outputs**"
            ]
        },
        {
            "cell_type": "code",
            "execution_count": 28,
            "metadata": {},
            "outputs": [
                {
                    "name": "stdout",
                    "output_type": "stream",
                    "text": "normalized entropy value: 0.513\naverage accuracy score: 0.993\n"
                },
                {
                    "ename": "ValueError",
                    "evalue": "Length of feature_names, 2 does not match number of features, 5",
                    "output_type": "error",
                    "traceback": [
                        "\u001b[0;31m---------------------------------------------------------------------------\u001b[0m",
                        "\u001b[0;31mValueError\u001b[0m                                Traceback (most recent call last)",
                        "\u001b[0;32m/tmp/ipykernel_115/1583439838.py\u001b[0m in \u001b[0;36m\u003cmodule\u003e\u001b[0;34m\u001b[0m\n\u001b[1;32m      3\u001b[0m \u001b[0;34m\u001b[0m\u001b[0m\n\u001b[1;32m      4\u001b[0m \u001b[0;31m# output visual (can be visualized with visual code)\u001b[0m\u001b[0;34m\u001b[0m\u001b[0;34m\u001b[0m\u001b[0m\n\u001b[0;32m----\u003e 5\u001b[0;31m tree.export_graphviz(model, out_file='SupervisedModel.dot',\n\u001b[0m\u001b[1;32m      6\u001b[0m                     \u001b[0mfeature_names\u001b[0m\u001b[0;34m=\u001b[0m\u001b[0;34m[\u001b[0m\u001b[0;34m'reviews_per_month'\u001b[0m\u001b[0;34m,\u001b[0m \u001b[0;34m'price'\u001b[0m\u001b[0;34m]\u001b[0m\u001b[0;34m,\u001b[0m\u001b[0;34m\u001b[0m\u001b[0;34m\u001b[0m\u001b[0m\n\u001b[1;32m      7\u001b[0m                     \u001b[0mclass_names\u001b[0m\u001b[0;34m=\u001b[0m\u001b[0msorted\u001b[0m\u001b[0;34m(\u001b[0m\u001b[0my\u001b[0m\u001b[0;34m.\u001b[0m\u001b[0munique\u001b[0m\u001b[0;34m(\u001b[0m\u001b[0;34m)\u001b[0m\u001b[0;34m)\u001b[0m\u001b[0;34m,\u001b[0m\u001b[0;34m\u001b[0m\u001b[0;34m\u001b[0m\u001b[0m\n",
                        "\u001b[0;32m/usr/lib/python3.9/site-packages/sklearn/tree/_export.py\u001b[0m in \u001b[0;36mexport_graphviz\u001b[0;34m(decision_tree, out_file, max_depth, feature_names, class_names, label, filled, leaves_parallel, impurity, node_ids, proportion, rotate, rounded, special_characters, precision, fontname)\u001b[0m\n\u001b[1;32m    888\u001b[0m             \u001b[0mfontname\u001b[0m\u001b[0;34m=\u001b[0m\u001b[0mfontname\u001b[0m\u001b[0;34m,\u001b[0m\u001b[0;34m\u001b[0m\u001b[0;34m\u001b[0m\u001b[0m\n\u001b[1;32m    889\u001b[0m         )\n\u001b[0;32m--\u003e 890\u001b[0;31m         \u001b[0mexporter\u001b[0m\u001b[0;34m.\u001b[0m\u001b[0mexport\u001b[0m\u001b[0;34m(\u001b[0m\u001b[0mdecision_tree\u001b[0m\u001b[0;34m)\u001b[0m\u001b[0;34m\u001b[0m\u001b[0;34m\u001b[0m\u001b[0m\n\u001b[0m\u001b[1;32m    891\u001b[0m \u001b[0;34m\u001b[0m\u001b[0m\n\u001b[1;32m    892\u001b[0m         \u001b[0;32mif\u001b[0m \u001b[0mreturn_string\u001b[0m\u001b[0;34m:\u001b[0m\u001b[0;34m\u001b[0m\u001b[0;34m\u001b[0m\u001b[0m\n",
                        "\u001b[0;32m/usr/lib/python3.9/site-packages/sklearn/tree/_export.py\u001b[0m in \u001b[0;36mexport\u001b[0;34m(self, decision_tree)\u001b[0m\n\u001b[1;32m    450\u001b[0m         \u001b[0;32mif\u001b[0m \u001b[0mself\u001b[0m\u001b[0;34m.\u001b[0m\u001b[0mfeature_names\u001b[0m \u001b[0;32mis\u001b[0m \u001b[0;32mnot\u001b[0m \u001b[0;32mNone\u001b[0m\u001b[0;34m:\u001b[0m\u001b[0;34m\u001b[0m\u001b[0;34m\u001b[0m\u001b[0m\n\u001b[1;32m    451\u001b[0m             \u001b[0;32mif\u001b[0m \u001b[0mlen\u001b[0m\u001b[0;34m(\u001b[0m\u001b[0mself\u001b[0m\u001b[0;34m.\u001b[0m\u001b[0mfeature_names\u001b[0m\u001b[0;34m)\u001b[0m \u001b[0;34m!=\u001b[0m \u001b[0mdecision_tree\u001b[0m\u001b[0;34m.\u001b[0m\u001b[0mn_features_in_\u001b[0m\u001b[0;34m:\u001b[0m\u001b[0;34m\u001b[0m\u001b[0;34m\u001b[0m\u001b[0m\n\u001b[0;32m--\u003e 452\u001b[0;31m                 raise ValueError(\n\u001b[0m\u001b[1;32m    453\u001b[0m                     \u001b[0;34m\"Length of feature_names, %d does not match number of features, %d\"\u001b[0m\u001b[0;34m\u001b[0m\u001b[0;34m\u001b[0m\u001b[0m\n\u001b[1;32m    454\u001b[0m                     \u001b[0;34m%\u001b[0m \u001b[0;34m(\u001b[0m\u001b[0mlen\u001b[0m\u001b[0;34m(\u001b[0m\u001b[0mself\u001b[0m\u001b[0;34m.\u001b[0m\u001b[0mfeature_names\u001b[0m\u001b[0;34m)\u001b[0m\u001b[0;34m,\u001b[0m \u001b[0mdecision_tree\u001b[0m\u001b[0;34m.\u001b[0m\u001b[0mn_features_in_\u001b[0m\u001b[0;34m)\u001b[0m\u001b[0;34m\u001b[0m\u001b[0;34m\u001b[0m\u001b[0m\n",
                        "\u001b[0;31mValueError\u001b[0m: Length of feature_names, 2 does not match number of features, 5"
                    ]
                }
            ],
            "source": [
                "print('normalized entropy value: %.3f'% normalizedE)\n",
                "print('average accuracy score: %.3f' % avg_score)\n",
                "\n",
                "# output visual (can be visualized with visual code)\n",
                "tree.export_graphviz(model, out_file='SupervisedModel.dot',\n",
                "                    feature_names=['reviews_per_month', 'price'],\n",
                "                    class_names=sorted(y.unique()),\n",
                "                    label='all',\n",
                "                    rounded=True,\n",
                "                    filled=True)"
            ]
        },
        {
            "cell_type": "code",
            "execution_count": 9,
            "metadata": {},
            "outputs": [],
            "source": [
                ""
            ]
        }
    ]
}
